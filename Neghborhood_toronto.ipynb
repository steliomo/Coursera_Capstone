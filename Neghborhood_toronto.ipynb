# Neighborhood in Torronto

#!pip install bs4
#!pip install lxml

from bs4 import BeautifulSoup


